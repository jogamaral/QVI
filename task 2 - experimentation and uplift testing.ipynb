{
 "cells": [
  {
   "cell_type": "markdown",
   "metadata": {},
   "source": [
    "# Load required libraries and datasets"
   ]
  },
  {
   "cell_type": "code",
   "execution_count": 1,
   "metadata": {},
   "outputs": [],
   "source": [
    "import pandas as pd\n",
    "import numpy as np\n",
    "import matplotlib.pyplot as plt\n",
    "import seaborn as sns; sns.set(style='whitegrid')\n",
    "from scipy import stats\n",
    "%matplotlib inline"
   ]
  },
  {
   "cell_type": "code",
   "execution_count": 2,
   "metadata": {},
   "outputs": [
    {
     "data": {
      "text/html": [
       "<div>\n",
       "<style scoped>\n",
       "    .dataframe tbody tr th:only-of-type {\n",
       "        vertical-align: middle;\n",
       "    }\n",
       "\n",
       "    .dataframe tbody tr th {\n",
       "        vertical-align: top;\n",
       "    }\n",
       "\n",
       "    .dataframe thead th {\n",
       "        text-align: right;\n",
       "    }\n",
       "</style>\n",
       "<table border=\"1\" class=\"dataframe\">\n",
       "  <thead>\n",
       "    <tr style=\"text-align: right;\">\n",
       "      <th></th>\n",
       "      <th>STORE_NBR</th>\n",
       "      <th>LYLTY_CARD_NBR</th>\n",
       "      <th>TXN_ID</th>\n",
       "      <th>PROD_NBR</th>\n",
       "      <th>PROD_NAME</th>\n",
       "      <th>PROD_QTY</th>\n",
       "      <th>TOT_SALES</th>\n",
       "      <th>LIFESTAGE</th>\n",
       "      <th>PREMIUM_CUSTOMER</th>\n",
       "      <th>SIZE</th>\n",
       "      <th>BRAND</th>\n",
       "    </tr>\n",
       "    <tr>\n",
       "      <th>DATE</th>\n",
       "      <th></th>\n",
       "      <th></th>\n",
       "      <th></th>\n",
       "      <th></th>\n",
       "      <th></th>\n",
       "      <th></th>\n",
       "      <th></th>\n",
       "      <th></th>\n",
       "      <th></th>\n",
       "      <th></th>\n",
       "      <th></th>\n",
       "    </tr>\n",
       "  </thead>\n",
       "  <tbody>\n",
       "    <tr>\n",
       "      <th>2018-07-01</th>\n",
       "      <td>229</td>\n",
       "      <td>229079</td>\n",
       "      <td>230838</td>\n",
       "      <td>77</td>\n",
       "      <td>Doritos Corn Chips  Nacho Cheese 170g</td>\n",
       "      <td>2</td>\n",
       "      <td>8.8</td>\n",
       "      <td>OLDER SINGLES/COUPLES</td>\n",
       "      <td>Budget</td>\n",
       "      <td>170</td>\n",
       "      <td>Doritos</td>\n",
       "    </tr>\n",
       "    <tr>\n",
       "      <th>2018-07-01</th>\n",
       "      <td>21</td>\n",
       "      <td>21037</td>\n",
       "      <td>17576</td>\n",
       "      <td>62</td>\n",
       "      <td>Pringles Mystery    Flavour 134g</td>\n",
       "      <td>2</td>\n",
       "      <td>7.4</td>\n",
       "      <td>RETIREES</td>\n",
       "      <td>Mainstream</td>\n",
       "      <td>134</td>\n",
       "      <td>Pringles</td>\n",
       "    </tr>\n",
       "    <tr>\n",
       "      <th>2018-07-01</th>\n",
       "      <td>40</td>\n",
       "      <td>40204</td>\n",
       "      <td>37044</td>\n",
       "      <td>81</td>\n",
       "      <td>Pringles Original   Crisps 134g</td>\n",
       "      <td>2</td>\n",
       "      <td>7.4</td>\n",
       "      <td>YOUNG FAMILIES</td>\n",
       "      <td>Budget</td>\n",
       "      <td>134</td>\n",
       "      <td>Pringles</td>\n",
       "    </tr>\n",
       "  </tbody>\n",
       "</table>\n",
       "</div>"
      ],
      "text/plain": [
       "            STORE_NBR  LYLTY_CARD_NBR  TXN_ID  PROD_NBR  \\\n",
       "DATE                                                      \n",
       "2018-07-01        229          229079  230838        77   \n",
       "2018-07-01         21           21037   17576        62   \n",
       "2018-07-01         40           40204   37044        81   \n",
       "\n",
       "                                        PROD_NAME  PROD_QTY  TOT_SALES  \\\n",
       "DATE                                                                     \n",
       "2018-07-01  Doritos Corn Chips  Nacho Cheese 170g         2        8.8   \n",
       "2018-07-01       Pringles Mystery    Flavour 134g         2        7.4   \n",
       "2018-07-01        Pringles Original   Crisps 134g         2        7.4   \n",
       "\n",
       "                        LIFESTAGE PREMIUM_CUSTOMER  SIZE     BRAND  \n",
       "DATE                                                                \n",
       "2018-07-01  OLDER SINGLES/COUPLES           Budget   170   Doritos  \n",
       "2018-07-01               RETIREES       Mainstream   134  Pringles  \n",
       "2018-07-01         YOUNG FAMILIES           Budget   134  Pringles  "
      ]
     },
     "execution_count": 2,
     "metadata": {},
     "output_type": "execute_result"
    }
   ],
   "source": [
    "df = pd.read_csv('data/QVI_dataframe',index_col=['DATE'], parse_dates=['DATE']).sort_index()\n",
    "df.head(3)"
   ]
  },
  {
   "cell_type": "markdown",
   "metadata": {},
   "source": [
    "Creating month and year column."
   ]
  },
  {
   "cell_type": "code",
   "execution_count": 3,
   "metadata": {},
   "outputs": [],
   "source": [
    "df['month'] = df.index.month\n",
    "df['year'] = df.index.year\n",
    "df['year-month'] = df.index.to_period('M')"
   ]
  },
  {
   "cell_type": "markdown",
   "metadata": {},
   "source": [
    "# Selecting control stores"
   ]
  },
  {
   "cell_type": "markdown",
   "metadata": {},
   "source": [
    "The client has selected store numbers 77, 86 and 88 as trial stores and wants control stores to be established from stores that are operational for the entire observation period. The trial period goes from Feb 2019 to Apr 2019."
   ]
  },
  {
   "cell_type": "markdown",
   "metadata": {},
   "source": [
    "Creating separete dataframe for trial period and test period."
   ]
  },
  {
   "cell_type": "code",
   "execution_count": 4,
   "metadata": {},
   "outputs": [],
   "source": [
    "pre_trial_df, trial_df = df['2018-07':'2019-01'], df['2019-02':'2019-04']"
   ]
  },
  {
   "cell_type": "markdown",
   "metadata": {},
   "source": [
    "Separating trial stores selected by client."
   ]
  },
  {
   "cell_type": "code",
   "execution_count": 5,
   "metadata": {},
   "outputs": [],
   "source": [
    "trial = pre_trial_df.query('STORE_NBR == 77 or STORE_NBR == 86 or STORE_NBR == 88')"
   ]
  },
  {
   "cell_type": "markdown",
   "metadata": {},
   "source": [
    "Creating dataframe with the possible control stores to be selected and removing stores that don't have full observation periods."
   ]
  },
  {
   "cell_type": "code",
   "execution_count": 6,
   "metadata": {},
   "outputs": [],
   "source": [
    "possible_control = pd.concat([pre_trial_df, trial, trial]).drop_duplicates(keep=False)"
   ]
  },
  {
   "cell_type": "code",
   "execution_count": 7,
   "metadata": {},
   "outputs": [],
   "source": [
    "possible_control['month'] = possible_control.index.month\n",
    "possible_control['year'] = possible_control.index.year"
   ]
  },
  {
   "cell_type": "markdown",
   "metadata": {},
   "source": [
    "Calculating some metrics to help with the selection of similiar stores to the selected stores."
   ]
  },
  {
   "cell_type": "markdown",
   "metadata": {},
   "source": [
    "##### Monthly overall sales revenue"
   ]
  },
  {
   "cell_type": "code",
   "execution_count": 8,
   "metadata": {},
   "outputs": [
    {
     "data": {
      "text/html": [
       "<div>\n",
       "<style scoped>\n",
       "    .dataframe tbody tr th:only-of-type {\n",
       "        vertical-align: middle;\n",
       "    }\n",
       "\n",
       "    .dataframe tbody tr th {\n",
       "        vertical-align: top;\n",
       "    }\n",
       "\n",
       "    .dataframe thead tr th {\n",
       "        text-align: left;\n",
       "    }\n",
       "\n",
       "    .dataframe thead tr:last-of-type th {\n",
       "        text-align: right;\n",
       "    }\n",
       "</style>\n",
       "<table border=\"1\" class=\"dataframe\">\n",
       "  <thead>\n",
       "    <tr>\n",
       "      <th>year</th>\n",
       "      <th colspan=\"6\" halign=\"left\">2018</th>\n",
       "      <th>2019</th>\n",
       "    </tr>\n",
       "    <tr>\n",
       "      <th>month</th>\n",
       "      <th>7</th>\n",
       "      <th>8</th>\n",
       "      <th>9</th>\n",
       "      <th>10</th>\n",
       "      <th>11</th>\n",
       "      <th>12</th>\n",
       "      <th>1</th>\n",
       "    </tr>\n",
       "    <tr>\n",
       "      <th>STORE_NBR</th>\n",
       "      <th></th>\n",
       "      <th></th>\n",
       "      <th></th>\n",
       "      <th></th>\n",
       "      <th></th>\n",
       "      <th></th>\n",
       "      <th></th>\n",
       "    </tr>\n",
       "  </thead>\n",
       "  <tbody>\n",
       "    <tr>\n",
       "      <th>1</th>\n",
       "      <td>188.9</td>\n",
       "      <td>168.40</td>\n",
       "      <td>268.1</td>\n",
       "      <td>175.4</td>\n",
       "      <td>184.8</td>\n",
       "      <td>160.6</td>\n",
       "      <td>149.7</td>\n",
       "    </tr>\n",
       "    <tr>\n",
       "      <th>2</th>\n",
       "      <td>140.5</td>\n",
       "      <td>180.90</td>\n",
       "      <td>133.9</td>\n",
       "      <td>160.1</td>\n",
       "      <td>143.3</td>\n",
       "      <td>129.2</td>\n",
       "      <td>158.7</td>\n",
       "    </tr>\n",
       "    <tr>\n",
       "      <th>3</th>\n",
       "      <td>1164.9</td>\n",
       "      <td>998.15</td>\n",
       "      <td>1011.3</td>\n",
       "      <td>1017.5</td>\n",
       "      <td>936.6</td>\n",
       "      <td>1075.7</td>\n",
       "      <td>980.3</td>\n",
       "    </tr>\n",
       "    <tr>\n",
       "      <th>4</th>\n",
       "      <td>1318.3</td>\n",
       "      <td>1188.10</td>\n",
       "      <td>1168.0</td>\n",
       "      <td>1275.0</td>\n",
       "      <td>1089.6</td>\n",
       "      <td>1134.6</td>\n",
       "      <td>1402.6</td>\n",
       "    </tr>\n",
       "    <tr>\n",
       "      <th>5</th>\n",
       "      <td>763.8</td>\n",
       "      <td>654.50</td>\n",
       "      <td>875.2</td>\n",
       "      <td>740.6</td>\n",
       "      <td>707.0</td>\n",
       "      <td>800.2</td>\n",
       "      <td>772.6</td>\n",
       "    </tr>\n",
       "  </tbody>\n",
       "</table>\n",
       "</div>"
      ],
      "text/plain": [
       "year         2018                                             2019\n",
       "month          7        8       9       10      11      12      1 \n",
       "STORE_NBR                                                         \n",
       "1           188.9   168.40   268.1   175.4   184.8   160.6   149.7\n",
       "2           140.5   180.90   133.9   160.1   143.3   129.2   158.7\n",
       "3          1164.9   998.15  1011.3  1017.5   936.6  1075.7   980.3\n",
       "4          1318.3  1188.10  1168.0  1275.0  1089.6  1134.6  1402.6\n",
       "5           763.8   654.50   875.2   740.6   707.0   800.2   772.6"
      ]
     },
     "execution_count": 8,
     "metadata": {},
     "output_type": "execute_result"
    }
   ],
   "source": [
    "monthly_sales_revenue_possible = possible_control.pivot_table(values='TOT_SALES',columns=['year','month'],index='STORE_NBR',aggfunc='sum')\n",
    "monthly_sales_revenue_trial = trial.pivot_table(values='TOT_SALES',columns=['year','month'],index='STORE_NBR',aggfunc='sum')\n",
    "monthly_sales_revenue_possible.dropna(inplace=True)\n",
    "monthly_sales_revenue_possible.head()"
   ]
  },
  {
   "cell_type": "markdown",
   "metadata": {},
   "source": [
    "##### Monthly number of customers"
   ]
  },
  {
   "cell_type": "code",
   "execution_count": 9,
   "metadata": {},
   "outputs": [
    {
     "data": {
      "text/html": [
       "<div>\n",
       "<style scoped>\n",
       "    .dataframe tbody tr th:only-of-type {\n",
       "        vertical-align: middle;\n",
       "    }\n",
       "\n",
       "    .dataframe tbody tr th {\n",
       "        vertical-align: top;\n",
       "    }\n",
       "\n",
       "    .dataframe thead tr th {\n",
       "        text-align: left;\n",
       "    }\n",
       "\n",
       "    .dataframe thead tr:last-of-type th {\n",
       "        text-align: right;\n",
       "    }\n",
       "</style>\n",
       "<table border=\"1\" class=\"dataframe\">\n",
       "  <thead>\n",
       "    <tr>\n",
       "      <th>year</th>\n",
       "      <th colspan=\"6\" halign=\"left\">2018</th>\n",
       "      <th>2019</th>\n",
       "    </tr>\n",
       "    <tr>\n",
       "      <th>month</th>\n",
       "      <th>7</th>\n",
       "      <th>8</th>\n",
       "      <th>9</th>\n",
       "      <th>10</th>\n",
       "      <th>11</th>\n",
       "      <th>12</th>\n",
       "      <th>1</th>\n",
       "    </tr>\n",
       "    <tr>\n",
       "      <th>STORE_NBR</th>\n",
       "      <th></th>\n",
       "      <th></th>\n",
       "      <th></th>\n",
       "      <th></th>\n",
       "      <th></th>\n",
       "      <th></th>\n",
       "      <th></th>\n",
       "    </tr>\n",
       "  </thead>\n",
       "  <tbody>\n",
       "    <tr>\n",
       "      <th>1</th>\n",
       "      <td>47.0</td>\n",
       "      <td>41.0</td>\n",
       "      <td>57.0</td>\n",
       "      <td>39.0</td>\n",
       "      <td>44.0</td>\n",
       "      <td>37.0</td>\n",
       "      <td>35.0</td>\n",
       "    </tr>\n",
       "    <tr>\n",
       "      <th>2</th>\n",
       "      <td>36.0</td>\n",
       "      <td>35.0</td>\n",
       "      <td>32.0</td>\n",
       "      <td>39.0</td>\n",
       "      <td>33.0</td>\n",
       "      <td>32.0</td>\n",
       "      <td>41.0</td>\n",
       "    </tr>\n",
       "    <tr>\n",
       "      <th>3</th>\n",
       "      <td>108.0</td>\n",
       "      <td>106.0</td>\n",
       "      <td>102.0</td>\n",
       "      <td>103.0</td>\n",
       "      <td>95.0</td>\n",
       "      <td>107.0</td>\n",
       "      <td>97.0</td>\n",
       "    </tr>\n",
       "    <tr>\n",
       "      <th>4</th>\n",
       "      <td>121.0</td>\n",
       "      <td>118.0</td>\n",
       "      <td>117.0</td>\n",
       "      <td>119.0</td>\n",
       "      <td>109.0</td>\n",
       "      <td>102.0</td>\n",
       "      <td>125.0</td>\n",
       "    </tr>\n",
       "    <tr>\n",
       "      <th>5</th>\n",
       "      <td>86.0</td>\n",
       "      <td>85.0</td>\n",
       "      <td>99.0</td>\n",
       "      <td>81.0</td>\n",
       "      <td>80.0</td>\n",
       "      <td>90.0</td>\n",
       "      <td>84.0</td>\n",
       "    </tr>\n",
       "  </tbody>\n",
       "</table>\n",
       "</div>"
      ],
      "text/plain": [
       "year        2018                                      2019\n",
       "month         7      8      9      10     11     12     1 \n",
       "STORE_NBR                                                 \n",
       "1           47.0   41.0   57.0   39.0   44.0   37.0   35.0\n",
       "2           36.0   35.0   32.0   39.0   33.0   32.0   41.0\n",
       "3          108.0  106.0  102.0  103.0   95.0  107.0   97.0\n",
       "4          121.0  118.0  117.0  119.0  109.0  102.0  125.0\n",
       "5           86.0   85.0   99.0   81.0   80.0   90.0   84.0"
      ]
     },
     "execution_count": 9,
     "metadata": {},
     "output_type": "execute_result"
    }
   ],
   "source": [
    "monthly_num_customers_possible = possible_control.pivot_table(values='LYLTY_CARD_NBR',columns=['year','month'],index='STORE_NBR',aggfunc=pd.Series.nunique)\n",
    "monthly_num_customers_trial = trial.pivot_table(values='LYLTY_CARD_NBR',columns=['year','month'],index='STORE_NBR',aggfunc=pd.Series.nunique)\n",
    "monthly_num_customers_possible.dropna(inplace=True)\n",
    "monthly_num_customers_possible.head()"
   ]
  },
  {
   "cell_type": "markdown",
   "metadata": {},
   "source": [
    "Creating function to compare any store to the trial stores."
   ]
  },
  {
   "cell_type": "code",
   "execution_count": 10,
   "metadata": {},
   "outputs": [],
   "source": [
    "def correlation_total(possible):\n",
    "    '''(Series)->list\n",
    "    Returns a dict with correlation between the 3 trial stores and the total revenue per month.\n",
    "    '''    \n",
    "    corr_dict = {}\n",
    "    for i in range(3):\n",
    "        corr_dict[monthly_sales_revenue_trial.index[i]] = monthly_sales_revenue_trial.iloc[i].corr(possible)\n",
    "            \n",
    "    return corr_dict"
   ]
  },
  {
   "cell_type": "code",
   "execution_count": 11,
   "metadata": {},
   "outputs": [],
   "source": [
    "def correlation_num_cust(possible):\n",
    "    '''(Series)->list\n",
    "    Returns a dic with correlation between the 3 trial stores and the number of customers per month.\n",
    "    '''\n",
    "    corr_dict = {}\n",
    "    for i in range(3):\n",
    "        corr_dict[monthly_num_customers_trial.index[i]] = monthly_num_customers_trial.iloc[i].corr(possible)        \n",
    "    \n",
    "    return corr_dict"
   ]
  },
  {
   "cell_type": "markdown",
   "metadata": {},
   "source": [
    "Creating dataframes using the functions created, where each row represents a store being compared to the 3 trial stores selected by the client and averaging the created dataframes."
   ]
  },
  {
   "cell_type": "code",
   "execution_count": 12,
   "metadata": {},
   "outputs": [
    {
     "data": {
      "text/html": [
       "<div>\n",
       "<style scoped>\n",
       "    .dataframe tbody tr th:only-of-type {\n",
       "        vertical-align: middle;\n",
       "    }\n",
       "\n",
       "    .dataframe tbody tr th {\n",
       "        vertical-align: top;\n",
       "    }\n",
       "\n",
       "    .dataframe thead th {\n",
       "        text-align: right;\n",
       "    }\n",
       "</style>\n",
       "<table border=\"1\" class=\"dataframe\">\n",
       "  <thead>\n",
       "    <tr style=\"text-align: right;\">\n",
       "      <th></th>\n",
       "      <th>77</th>\n",
       "      <th>86</th>\n",
       "      <th>88</th>\n",
       "    </tr>\n",
       "    <tr>\n",
       "      <th>STORE_NBR</th>\n",
       "      <th></th>\n",
       "      <th></th>\n",
       "      <th></th>\n",
       "    </tr>\n",
       "  </thead>\n",
       "  <tbody>\n",
       "    <tr>\n",
       "      <th>1</th>\n",
       "      <td>0.171624</td>\n",
       "      <td>0.374556</td>\n",
       "      <td>0.636105</td>\n",
       "    </tr>\n",
       "    <tr>\n",
       "      <th>2</th>\n",
       "      <td>0.423837</td>\n",
       "      <td>0.295438</td>\n",
       "      <td>0.389947</td>\n",
       "    </tr>\n",
       "    <tr>\n",
       "      <th>3</th>\n",
       "      <td>0.707848</td>\n",
       "      <td>0.101784</td>\n",
       "      <td>0.450705</td>\n",
       "    </tr>\n",
       "    <tr>\n",
       "      <th>4</th>\n",
       "      <td>0.326629</td>\n",
       "      <td>0.020930</td>\n",
       "      <td>0.361454</td>\n",
       "    </tr>\n",
       "    <tr>\n",
       "      <th>5</th>\n",
       "      <td>0.181908</td>\n",
       "      <td>0.273139</td>\n",
       "      <td>0.182530</td>\n",
       "    </tr>\n",
       "  </tbody>\n",
       "</table>\n",
       "</div>"
      ],
      "text/plain": [
       "                 77        86        88\n",
       "STORE_NBR                              \n",
       "1          0.171624  0.374556  0.636105\n",
       "2          0.423837  0.295438  0.389947\n",
       "3          0.707848  0.101784  0.450705\n",
       "4          0.326629  0.020930  0.361454\n",
       "5          0.181908  0.273139  0.182530"
      ]
     },
     "execution_count": 12,
     "metadata": {},
     "output_type": "execute_result"
    }
   ],
   "source": [
    "data_corr_total = [correlation_total(monthly_sales_revenue_possible.loc[i]) for i in monthly_sales_revenue_possible.index]\n",
    "data_corr_cust = [correlation_num_cust(monthly_num_customers_possible.loc[i]) for i in monthly_num_customers_possible.index]\n",
    "df_corr_total = pd.DataFrame(data_corr_total,index=monthly_sales_revenue_possible.index).abs()\n",
    "df_corr_cust = pd.DataFrame(data_corr_cust,index=monthly_num_customers_possible.index).abs()\n",
    "avg = (df_corr_total + df_corr_cust)/2\n",
    "avg.head()"
   ]
  },
  {
   "cell_type": "markdown",
   "metadata": {},
   "source": [
    "Getting the highest correlated stores from the averaged dataframe."
   ]
  },
  {
   "cell_type": "code",
   "execution_count": 13,
   "metadata": {},
   "outputs": [
    {
     "name": "stdout",
     "output_type": "stream",
     "text": [
      "Store with highest average correlation with store 77: 233\n",
      "Store with highest average correlation with store 86: 155\n",
      "Store with highest average correlation with store 88: 14\n"
     ]
    }
   ],
   "source": [
    "for i in [77,86,88]:\n",
    "    print('Store with highest average correlation with store {}: {}'.format(\n",
    "        i,avg[i].sort_values(ascending=False).index[0]))"
   ]
  },
  {
   "cell_type": "markdown",
   "metadata": {},
   "source": [
    "# Comparing selected control stores with trial stores"
   ]
  },
  {
   "cell_type": "markdown",
   "metadata": {},
   "source": [
    "We'll start by defining some functions that will help with scaling the control store's sales so as to control for any differences between the two stores outside of the trial period."
   ]
  },
  {
   "cell_type": "code",
   "execution_count": 14,
   "metadata": {},
   "outputs": [],
   "source": [
    "# Scaling constants \n",
    "scaling_sales_77_233 = pre_trial_df.query('STORE_NBR == 77')['TOT_SALES'].sum() / pre_trial_df.query('STORE_NBR == 233')['TOT_SALES'].sum()\n",
    "scaling_sales_86_155 = pre_trial_df.query('STORE_NBR == 86')['TOT_SALES'].sum() / pre_trial_df.query('STORE_NBR == 155')['TOT_SALES'].sum()\n",
    "scaling_sales_88_14 = pre_trial_df.query('STORE_NBR == 88')['TOT_SALES'].sum() / pre_trial_df.query('STORE_NBR == 14')['TOT_SALES'].sum()\n",
    "\n",
    "scaling_num_cust_77_233 = pre_trial_df.query('STORE_NBR == 77')['LYLTY_CARD_NBR'].nunique() / pre_trial_df.query('STORE_NBR == 233')['LYLTY_CARD_NBR'].nunique()\n",
    "scaling_num_cust_86_155 = pre_trial_df.query('STORE_NBR == 86')['LYLTY_CARD_NBR'].nunique() / pre_trial_df.query('STORE_NBR == 155')['LYLTY_CARD_NBR'].nunique()\n",
    "scaling_num_cust_88_14 = pre_trial_df.query('STORE_NBR == 88')['LYLTY_CARD_NBR'].nunique() / pre_trial_df.query('STORE_NBR == 14')['LYLTY_CARD_NBR'].nunique()"
   ]
  },
  {
   "cell_type": "code",
   "execution_count": 15,
   "metadata": {},
   "outputs": [],
   "source": [
    "def scale_total_sales(x):\n",
    "    if x['STORE_NBR'] == 233:\n",
    "        return x['TOT_SALES']*scaling_sales_77_233\n",
    "    elif x['STORE_NBR'] == 155:\n",
    "        return x['TOT_SALES']*scaling_sales_86_155\n",
    "    elif x['STORE_NBR'] == 14:\n",
    "        return x['TOT_SALES']*scaling_sales_88_14\n",
    "    else:\n",
    "        return x['TOT_SALES']"
   ]
  },
  {
   "cell_type": "code",
   "execution_count": 16,
   "metadata": {},
   "outputs": [],
   "source": [
    "def scale_num_cust(x):\n",
    "    if x['STORE_NBR'] == 233:\n",
    "        return x['TOT_SALES']*scaling_num_cust_77_233\n",
    "    elif x['STORE_NBR'] == 155:\n",
    "        return x['TOT_SALES']*scaling_num_cust_86_155\n",
    "    elif x['STORE_NBR'] == 14:\n",
    "        return x['TOT_SALES']*scaling_num_cust_88_14\n",
    "    else:\n",
    "        return x['TOT_SALES']"
   ]
  },
  {
   "cell_type": "markdown",
   "metadata": {},
   "source": [
    "## Store 77 and Store 233"
   ]
  },
  {
   "cell_type": "markdown",
   "metadata": {},
   "source": [
    "####  Comparing total sales"
   ]
  },
  {
   "cell_type": "code",
   "execution_count": 17,
   "metadata": {},
   "outputs": [],
   "source": [
    "scaled_compare_77_233_pre_trial = pre_trial_df.query('STORE_NBR == 77 or STORE_NBR == 233').copy()\n",
    "scaled_compare_77_233_trial = trial_df.query('STORE_NBR == 77 or STORE_NBR == 233').copy()\n",
    "scaled_compare_77_233_pre_trial.loc[:,'TOT_SALES'] = scaled_compare_77_233_pre_trial.apply(scale_total_sales,axis=1)\n",
    "scaled_compare_77_233_trial.loc[:,'TOT_SALES'] = scaled_compare_77_233_trial.apply(scale_total_sales,axis=1)"
   ]
  },
  {
   "cell_type": "code",
   "execution_count": 18,
   "metadata": {},
   "outputs": [
    {
     "data": {
      "image/png": "[encoded data removed]",
      "text/plain": [
       "<Figure size 864x576 with 1 Axes>"
      ]
     },
     "metadata": {
      "needs_background": "light"
     },
     "output_type": "display_data"
    }
   ],
   "source": [
    "plt.figure(figsize=(12,8)) \n",
    "\n",
    "sns.barplot(data=scaled_compare_77_233_pre_trial,x='year-month',y='TOT_SALES',hue='STORE_NBR',ci=None,palette='coolwarm',estimator=sum)\n",
    "\n",
    "plt.xlabel('Year-Month')\n",
    "plt.ylabel('Total Sales')\n",
    "plt.legend(title='Store Number',loc='center left', bbox_to_anchor=(1, 0.5))\n",
    "plt.title('Comparison of Stores Total Sales Before Trial Period');"
   ]
  },
  {
   "cell_type": "code",
   "execution_count": 19,
   "metadata": {},
   "outputs": [
    {
     "data": {
      "image/png": "[encoded data removed]",
      "text/plain": [
       "<Figure size 864x576 with 1 Axes>"
      ]
     },
     "metadata": {
      "needs_background": "light"
     },
     "output_type": "display_data"
    }
   ],
   "source": [
    "plt.figure(figsize=(12,8)) \n",
    "\n",
    "sns.barplot(data=scaled_compare_77_233_trial,x='year-month',y='TOT_SALES',hue='STORE_NBR',ci=None,palette='coolwarm',estimator=sum)\n",
    "\n",
    "plt.xlabel('Year-Month')\n",
    "plt.ylabel('Total Sales')\n",
    "plt.legend(title='Store Number',loc='center left', bbox_to_anchor=(1, 0.5))\n",
    "plt.title('Comparison of Stores Total Sales During Trial Period');"
   ]
  },
  {
   "cell_type": "code",
   "execution_count": 55,
   "metadata": {},
   "outputs": [
    {
     "data": {
      "text/html": [
       "<div>\n",
       "<style scoped>\n",
       "    .dataframe tbody tr th:only-of-type {\n",
       "        vertical-align: middle;\n",
       "    }\n",
       "\n",
       "    .dataframe tbody tr th {\n",
       "        vertical-align: top;\n",
       "    }\n",
       "\n",
       "    .dataframe thead th {\n",
       "        text-align: right;\n",
       "    }\n",
       "</style>\n",
       "<table border=\"1\" class=\"dataframe\">\n",
       "  <thead>\n",
       "    <tr style=\"text-align: right;\">\n",
       "      <th>STORE_NBR</th>\n",
       "      <th>86</th>\n",
       "      <th>155</th>\n",
       "    </tr>\n",
       "    <tr>\n",
       "      <th>year-month</th>\n",
       "      <th></th>\n",
       "      <th></th>\n",
       "    </tr>\n",
       "  </thead>\n",
       "  <tbody>\n",
       "    <tr>\n",
       "      <th>2019-02</th>\n",
       "      <td>872.8</td>\n",
       "      <td>827.019610</td>\n",
       "    </tr>\n",
       "    <tr>\n",
       "      <th>2019-03</th>\n",
       "      <td>945.4</td>\n",
       "      <td>745.561872</td>\n",
       "    </tr>\n",
       "    <tr>\n",
       "      <th>2019-04</th>\n",
       "      <td>804.0</td>\n",
       "      <td>778.028321</td>\n",
       "    </tr>\n",
       "  </tbody>\n",
       "</table>\n",
       "</div>"
      ],
      "text/plain": [
       "STORE_NBR     86          155\n",
       "year-month                   \n",
       "2019-02     872.8  827.019610\n",
       "2019-03     945.4  745.561872\n",
       "2019-04     804.0  778.028321"
      ]
     },
     "execution_count": 55,
     "metadata": {},
     "output_type": "execute_result"
    }
   ],
   "source": [
    "scaled_compare_86_155_trial.pivot_table(values='TOT_SALES',columns='STORE_NBR',index='year-month',aggfunc={'TOT_SALES':'sum'})"
   ]
  },
  {
   "cell_type": "markdown",
   "metadata": {},
   "source": [
    "We can check if the difference is statistically signifficant perfoming a t-test with a null hypothesis of there being 0 monthly total revenue difference between the trial and control stores for the trial periods."
   ]
  },
  {
   "cell_type": "code",
   "execution_count": 20,
   "metadata": {},
   "outputs": [
    {
     "data": {
      "text/plain": [
       "Ttest_indResult(statistic=1.9141052468050233, pvalue=0.12813840549898767)"
      ]
     },
     "execution_count": 20,
     "metadata": {},
     "output_type": "execute_result"
    }
   ],
   "source": [
    "stats.ttest_ind(scaled_compare_77_233_trial.pivot_table(values='TOT_SALES',columns=['year','month'],index='STORE_NBR',aggfunc='sum').loc[77],\n",
    "               scaled_compare_77_233_trial.pivot_table(values='TOT_SALES',columns=['year','month'],index='STORE_NBR',aggfunc='sum').loc[233])"
   ]
  },
  {
   "cell_type": "markdown",
   "metadata": {},
   "source": [
    "The results show that the monthly total revenue during trial in store 77 is not significantly different to its control store in the trial period."
   ]
  },
  {
   "cell_type": "markdown",
   "metadata": {},
   "source": [
    "#### Comparing Number of Customers"
   ]
  },
  {
   "cell_type": "markdown",
   "metadata": {},
   "source": [
    "Scaling number of customers"
   ]
  },
  {
   "cell_type": "code",
   "execution_count": 21,
   "metadata": {},
   "outputs": [],
   "source": [
    "scaled_compare_77_233_pre_trial.loc[:,'LYLTY_CARD_NBR'] = scaled_compare_77_233_pre_trial.apply(scale_num_cust,axis=1)\n",
    "scaled_compare_77_233_trial.loc[:,'LYLTY_CARD_NBR'] = scaled_compare_77_233_trial.apply(scale_num_cust,axis=1)"
   ]
  },
  {
   "cell_type": "markdown",
   "metadata": {},
   "source": [
    "Graphical Analysis"
   ]
  },
  {
   "cell_type": "code",
   "execution_count": 22,
   "metadata": {},
   "outputs": [
    {
     "data": {
      "image/png": "[encoded data removed]",
      "text/plain": [
       "<Figure size 864x576 with 1 Axes>"
      ]
     },
     "metadata": {
      "needs_background": "light"
     },
     "output_type": "display_data"
    }
   ],
   "source": [
    "plt.figure(figsize=(12,8)) \n",
    "\n",
    "sns.barplot(data=scaled_compare_77_233_pre_trial,x='year-month',y='LYLTY_CARD_NBR',hue='STORE_NBR',ci=None,palette='coolwarm',estimator=pd.Series.nunique)\n",
    "\n",
    "plt.xlabel('Year-Month')\n",
    "plt.ylabel('Number of Customers')\n",
    "plt.legend(title='Store Number',loc='center left', bbox_to_anchor=(1, 0.5))\n",
    "plt.title('Comparison of Stores Number of Customers Before Trial Period');"
   ]
  },
  {
   "cell_type": "code",
   "execution_count": 23,
   "metadata": {},
   "outputs": [
    {
     "data": {
      "image/png": "[encoded data removed]",
      "text/plain": [
       "<Figure size 864x576 with 1 Axes>"
      ]
     },
     "metadata": {
      "needs_background": "light"
     },
     "output_type": "display_data"
    }
   ],
   "source": [
    "plt.figure(figsize=(12,8)) \n",
    "\n",
    "sns.barplot(data=scaled_compare_77_233_trial,x='year-month',y='LYLTY_CARD_NBR',hue='STORE_NBR',ci=None,palette='coolwarm',estimator=pd.Series.nunique)\n",
    "\n",
    "plt.xlabel('Year-Month')\n",
    "plt.ylabel('Number of Customers')\n",
    "plt.legend(title='Store Number',loc='center left', bbox_to_anchor=(1, 0.5))\n",
    "plt.title('Comparison of Stores Number of Customers During Trial Period');"
   ]
  },
  {
   "cell_type": "markdown",
   "metadata": {},
   "source": [
    " We will now test with a null hypothesis of there being 0 number of customers difference between the trial and the control store for the trial period."
   ]
  },
  {
   "cell_type": "code",
   "execution_count": 24,
   "metadata": {},
   "outputs": [
    {
     "data": {
      "text/plain": [
       "Ttest_indResult(statistic=2.0426487199475694, pvalue=0.11061012278987672)"
      ]
     },
     "execution_count": 24,
     "metadata": {},
     "output_type": "execute_result"
    }
   ],
   "source": [
    "stats.ttest_ind(scaled_compare_77_233_trial.pivot_table(values='LYLTY_CARD_NBR',columns=['year','month'],index='STORE_NBR',aggfunc=pd.Series.nunique).loc[77],\n",
    "               scaled_compare_77_233_trial.pivot_table(values='LYLTY_CARD_NBR',columns=['year','month'],index='STORE_NBR',aggfunc=pd.Series.nunique).loc[233])"
   ]
  },
  {
   "cell_type": "markdown",
   "metadata": {},
   "source": [
    "The results show that there's no significantly number of customers difference between the trial in store 77 and control store in the trial period."
   ]
  },
  {
   "cell_type": "markdown",
   "metadata": {},
   "source": [
    "## Store 86 and Store 155"
   ]
  },
  {
   "cell_type": "code",
   "execution_count": 25,
   "metadata": {},
   "outputs": [],
   "source": [
    "scaled_compare_86_155_pre_trial = pre_trial_df.query('STORE_NBR == 86 or STORE_NBR == 155').copy()\n",
    "scaled_compare_86_155_trial = trial_df.query('STORE_NBR == 86 or STORE_NBR == 155').copy()\n",
    "scaled_compare_86_155_pre_trial.loc[:,'TOT_SALES'] = scaled_compare_86_155_pre_trial.apply(scale_total_sales,axis=1)\n",
    "scaled_compare_86_155_trial.loc[:,'TOT_SALES'] = scaled_compare_86_155_trial.apply(scale_total_sales,axis=1)"
   ]
  },
  {
   "cell_type": "code",
   "execution_count": 26,
   "metadata": {
    "scrolled": false
   },
   "outputs": [
    {
     "data": {
      "image/png": "[encoded data removed]",
      "text/plain": [
       "<Figure size 864x576 with 1 Axes>"
      ]
     },
     "metadata": {
      "needs_background": "light"
     },
     "output_type": "display_data"
    }
   ],
   "source": [
    "plt.figure(figsize=(12,8)) \n",
    "\n",
    "sns.barplot(data=scaled_compare_86_155_pre_trial,x='year-month',y='TOT_SALES',hue='STORE_NBR',ci=None,palette='coolwarm',estimator=sum)\n",
    "\n",
    "plt.xlabel('Year-Month')\n",
    "plt.ylabel('Total Sales')\n",
    "plt.legend(title='Store Number',loc='center left', bbox_to_anchor=(1, 0.5))\n",
    "plt.title('Comparison of Stores Total Sales Before Trial Period');"
   ]
  },
  {
   "cell_type": "code",
   "execution_count": 27,
   "metadata": {},
   "outputs": [
    {
     "data": {
      "image/png": "[encoded data removed]",
      "text/plain": [
       "<Figure size 864x576 with 1 Axes>"
      ]
     },
     "metadata": {
      "needs_background": "light"
     },
     "output_type": "display_data"
    }
   ],
   "source": [
    "plt.figure(figsize=(12,8)) \n",
    "\n",
    "sns.barplot(data=scaled_compare_86_155_trial,x='year-month',y='TOT_SALES',hue='STORE_NBR',ci=None,palette='coolwarm',estimator=sum)\n",
    "\n",
    "plt.xlabel('Year-Month')\n",
    "plt.ylabel('Total Sales')\n",
    "plt.legend(title='Store Number',loc='center left', bbox_to_anchor=(1, 0.5))\n",
    "plt.title('Comparison of Stores Total Sales During Trial Period');"
   ]
  },
  {
   "cell_type": "markdown",
   "metadata": {},
   "source": [
    "We can check if the difference is statistically signifficant perfoming a t-test with a null hypothesis of there being 0 monthly total revenue difference between the trial and control stores for the trial periods."
   ]
  },
  {
   "cell_type": "code",
   "execution_count": 28,
   "metadata": {},
   "outputs": [
    {
     "data": {
      "text/plain": [
       "Ttest_indResult(statistic=1.918329928839408, pvalue=0.1275164635243009)"
      ]
     },
     "execution_count": 28,
     "metadata": {},
     "output_type": "execute_result"
    }
   ],
   "source": [
    "stats.ttest_ind(scaled_compare_86_155_trial.pivot_table(values='TOT_SALES',columns=['year','month'],index='STORE_NBR',aggfunc='sum').loc[86],\n",
    "               scaled_compare_86_155_trial.pivot_table(values='TOT_SALES',columns=['year','month'],index='STORE_NBR',aggfunc='sum').loc[155])"
   ]
  },
  {
   "cell_type": "markdown",
   "metadata": {},
   "source": [
    "The results show that there's no significantly total revenue difference between the trial in store 86 and the control store in the trial period."
   ]
  },
  {
   "cell_type": "markdown",
   "metadata": {},
   "source": [
    "#### Comparing Number of Customers"
   ]
  },
  {
   "cell_type": "code",
   "execution_count": 29,
   "metadata": {},
   "outputs": [],
   "source": [
    "scaled_compare_86_155_pre_trial.loc[:,'LYLTY_CARD_NBR'] = scaled_compare_86_155_pre_trial.apply(scale_num_cust,axis=1)\n",
    "scaled_compare_86_155_trial.loc[:,'LYLTY_CARD_NBR'] = scaled_compare_86_155_trial.apply(scale_num_cust,axis=1)"
   ]
  },
  {
   "cell_type": "code",
   "execution_count": 30,
   "metadata": {
    "scrolled": false
   },
   "outputs": [
    {
     "data": {
      "image/png": "[encoded data removed]",
      "text/plain": [
       "<Figure size 864x576 with 1 Axes>"
      ]
     },
     "metadata": {
      "needs_background": "light"
     },
     "output_type": "display_data"
    }
   ],
   "source": [
    "plt.figure(figsize=(12,8)) \n",
    "\n",
    "sns.barplot(data=scaled_compare_86_155_pre_trial,x='year-month',y='LYLTY_CARD_NBR',hue='STORE_NBR',ci=None,palette='coolwarm',estimator=pd.Series.nunique)\n",
    "\n",
    "plt.xlabel('Year-Month')\n",
    "plt.ylabel('Number of Customers')\n",
    "plt.legend(title='Store Number',loc='center left', bbox_to_anchor=(1, 0.5))\n",
    "plt.title('Comparison of Stores Number of Customers Before Trial Period');"
   ]
  },
  {
   "cell_type": "code",
   "execution_count": 31,
   "metadata": {
    "scrolled": false
   },
   "outputs": [
    {
     "data": {
      "image/png": "[encoded data removed]",
      "text/plain": [
       "<Figure size 864x576 with 1 Axes>"
      ]
     },
     "metadata": {
      "needs_background": "light"
     },
     "output_type": "display_data"
    }
   ],
   "source": [
    "plt.figure(figsize=(12,8)) \n",
    "\n",
    "sns.barplot(data=scaled_compare_86_155_trial,x='year-month',y='LYLTY_CARD_NBR',hue='STORE_NBR',ci=None,palette='coolwarm',estimator=pd.Series.nunique)\n",
    "\n",
    "plt.xlabel('Year-Month')\n",
    "plt.ylabel('Number of Customers')\n",
    "plt.legend(title='Store Number',loc='center left', bbox_to_anchor=(1, 0.5))\n",
    "plt.title('Comparison of Stores Number of Customers During Trial Period');"
   ]
  },
  {
   "cell_type": "code",
   "execution_count": 32,
   "metadata": {},
   "outputs": [
    {
     "data": {
      "text/plain": [
       "Ttest_indResult(statistic=0.7905694150420953, pvalue=0.4734273652571372)"
      ]
     },
     "execution_count": 32,
     "metadata": {},
     "output_type": "execute_result"
    }
   ],
   "source": [
    "stats.ttest_ind(scaled_compare_86_155_trial.pivot_table(values='LYLTY_CARD_NBR',columns=['year','month'],index='STORE_NBR',aggfunc=pd.Series.nunique).loc[86],\n",
    "               scaled_compare_86_155_trial.pivot_table(values='LYLTY_CARD_NBR',columns=['year','month'],index='STORE_NBR',aggfunc=pd.Series.nunique).loc[155])"
   ]
  },
  {
   "cell_type": "markdown",
   "metadata": {},
   "source": [
    "The results show that there's no significantly number of customers difference between the trial in store 77 and control store in the trial period."
   ]
  },
  {
   "cell_type": "markdown",
   "metadata": {},
   "source": [
    "## Store 88 and Store 14"
   ]
  },
  {
   "cell_type": "code",
   "execution_count": 33,
   "metadata": {},
   "outputs": [],
   "source": [
    "scaled_compare_88_14_pre_trial = pre_trial_df.query('STORE_NBR == 88 or STORE_NBR == 14').copy()\n",
    "scaled_compare_88_14_trial = trial_df.query('STORE_NBR == 88 or STORE_NBR == 14').copy()\n",
    "scaled_compare_88_14_pre_trial.loc[:,'TOT_SALES'] = scaled_compare_88_14_pre_trial.apply(scale_total_sales,axis=1)\n",
    "scaled_compare_88_14_trial.loc[:,'TOT_SALES'] = scaled_compare_88_14_trial.apply(scale_total_sales,axis=1)"
   ]
  },
  {
   "cell_type": "code",
   "execution_count": 34,
   "metadata": {
    "scrolled": false
   },
   "outputs": [
    {
     "data": {
      "image/png": "[encoded data removed]",
      "text/plain": [
       "<Figure size 864x576 with 1 Axes>"
      ]
     },
     "metadata": {
      "needs_background": "light"
     },
     "output_type": "display_data"
    }
   ],
   "source": [
    "plt.figure(figsize=(12,8)) \n",
    "\n",
    "sns.barplot(data=scaled_compare_88_14_pre_trial,x='year-month',y='TOT_SALES',hue='STORE_NBR',ci=None,palette='coolwarm',estimator=sum)\n",
    "\n",
    "plt.xlabel('Year-Month')\n",
    "plt.ylabel('Total Sales')\n",
    "plt.legend(title='Store Number',loc='center left', bbox_to_anchor=(1, 0.5))\n",
    "plt.title('Comparison of Stores Total Sales Before Trial Period');"
   ]
  },
  {
   "cell_type": "code",
   "execution_count": 35,
   "metadata": {},
   "outputs": [
    {
     "data": {
      "image/png": "[encoded data removed]",
      "text/plain": [
       "<Figure size 864x576 with 1 Axes>"
      ]
     },
     "metadata": {
      "needs_background": "light"
     },
     "output_type": "display_data"
    }
   ],
   "source": [
    "plt.figure(figsize=(12,8)) \n",
    "\n",
    "sns.barplot(data=scaled_compare_88_14_trial,x='year-month',y='TOT_SALES',hue='STORE_NBR',ci=None,palette='coolwarm',estimator=sum)\n",
    "\n",
    "plt.xlabel('Year-Month')\n",
    "plt.ylabel('Total Sales')\n",
    "plt.legend(title='Store Number',loc='center left', bbox_to_anchor=(1, 0.5))\n",
    "plt.title('Comparison of Stores Total Sales During Trial Period');"
   ]
  },
  {
   "cell_type": "code",
   "execution_count": 36,
   "metadata": {},
   "outputs": [
    {
     "data": {
      "text/plain": [
       "Ttest_indResult(statistic=3.4040222383372685, pvalue=0.00930497392292769)"
      ]
     },
     "execution_count": 36,
     "metadata": {},
     "output_type": "execute_result"
    }
   ],
   "source": [
    "stats.ttest_ind(scaled_compare_88_14_pre_trial.pivot_table(values='TOT_SALES',columns=['year','month'],index='STORE_NBR',aggfunc='sum').loc[88],\n",
    "               scaled_compare_88_14_trial.pivot_table(values='TOT_SALES',columns=['year','month'],index='STORE_NBR',aggfunc='sum').loc[14])"
   ]
  },
  {
   "cell_type": "markdown",
   "metadata": {},
   "source": [
    "The results show that the monthly total revenue during trial in store 88 is significantly different to its control store in the trial period."
   ]
  },
  {
   "cell_type": "markdown",
   "metadata": {},
   "source": [
    "#### Comparing Number of Customers"
   ]
  },
  {
   "cell_type": "code",
   "execution_count": 37,
   "metadata": {},
   "outputs": [],
   "source": [
    "scaled_compare_88_14_pre_trial.loc[:,'LYLTY_CARD_NBR'] = scaled_compare_88_14_pre_trial.apply(scale_num_cust,axis=1)\n",
    "scaled_compare_88_14_trial.loc[:,'LYLTY_CARD_NBR'] = scaled_compare_88_14_trial.apply(scale_num_cust,axis=1)"
   ]
  },
  {
   "cell_type": "code",
   "execution_count": 38,
   "metadata": {
    "scrolled": false
   },
   "outputs": [
    {
     "data": {
      "image/png": "[encoded data removed]",
      "text/plain": [
       "<Figure size 864x576 with 1 Axes>"
      ]
     },
     "metadata": {
      "needs_background": "light"
     },
     "output_type": "display_data"
    }
   ],
   "source": [
    "plt.figure(figsize=(12,8)) \n",
    "\n",
    "sns.barplot(data=scaled_compare_88_14_pre_trial,x='year-month',y='LYLTY_CARD_NBR',hue='STORE_NBR',ci=None,palette='coolwarm',estimator=pd.Series.nunique)\n",
    "\n",
    "plt.xlabel('Year-Month')\n",
    "plt.ylabel('Number of Customers')\n",
    "plt.legend(title='Store Number',loc='center left', bbox_to_anchor=(1, 0.5))\n",
    "plt.title('Comparison of Stores Number of Customers Before Trial Period');"
   ]
  },
  {
   "cell_type": "code",
   "execution_count": 39,
   "metadata": {
    "scrolled": false
   },
   "outputs": [
    {
     "data": {
      "image/png": "[encoded data removed]",
      "text/plain": [
       "<Figure size 864x576 with 1 Axes>"
      ]
     },
     "metadata": {
      "needs_background": "light"
     },
     "output_type": "display_data"
    }
   ],
   "source": [
    "plt.figure(figsize=(12,8)) \n",
    "\n",
    "sns.barplot(data=scaled_compare_88_14_trial,x='year-month',y='LYLTY_CARD_NBR',hue='STORE_NBR',ci=None,palette='coolwarm',estimator=pd.Series.nunique)\n",
    "\n",
    "plt.xlabel('Year-Month')\n",
    "plt.ylabel('Number of Customers')\n",
    "plt.legend(title='Store Number',loc='center left', bbox_to_anchor=(1, 0.5))\n",
    "plt.title('Comparison of Stores Number of Customers During Trial Period');"
   ]
  },
  {
   "cell_type": "code",
   "execution_count": 40,
   "metadata": {},
   "outputs": [
    {
     "data": {
      "text/plain": [
       "Ttest_indResult(statistic=9.899494936611664, pvalue=0.0005844106153028071)"
      ]
     },
     "execution_count": 40,
     "metadata": {},
     "output_type": "execute_result"
    }
   ],
   "source": [
    "stats.ttest_ind(scaled_compare_88_14_trial.pivot_table(values='LYLTY_CARD_NBR',columns=['year','month'],index='STORE_NBR',aggfunc=pd.Series.nunique).loc[88],\n",
    "               scaled_compare_88_14_trial.pivot_table(values='LYLTY_CARD_NBR',columns=['year','month'],index='STORE_NBR',aggfunc=pd.Series.nunique).loc[14])"
   ]
  },
  {
   "cell_type": "markdown",
   "metadata": {},
   "source": [
    "The results show that the number of customers difference during trial in store 88 is significantly different to its control store in the trial period."
   ]
  },
  {
   "cell_type": "markdown",
   "metadata": {},
   "source": [
    "# Conclusion"
   ]
  },
  {
   "cell_type": "markdown",
   "metadata": {},
   "source": [
    "We' ve found control stores 233, 155, 14 for trial stores 77, 86 and 88 respectively.  The results for trial stores 77 and 86 during the trial period don't show a significant difference in at least two of the three trial months but this is not the case for trial store 88. We can check with the client if the implementation of the trial wasdifferent in trial store 88 but overall, the trial doesn't shows a significant increase in sales."
   ]
  }
 ],
 "metadata": {
  "kernelspec": {
   "display_name": "Python 3",
   "language": "python",
   "name": "python3"
  },
  "language_info": {
   "codemirror_mode": {
    "name": "ipython",
    "version": 3
   },
   "file_extension": ".py",
   "mimetype": "text/x-python",
   "name": "python",
   "nbconvert_exporter": "python",
   "pygments_lexer": "ipython3",
   "version": "3.8.3"
  }
 },
 "nbformat": 4,
 "nbformat_minor": 4
}
